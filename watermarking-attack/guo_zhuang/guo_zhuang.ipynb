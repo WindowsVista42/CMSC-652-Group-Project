{
 "cells": [
  {
   "cell_type": "code",
   "execution_count": null,
   "id": "f7aa84f5-10ab-42e1-93f2-cd1ee9189bb0",
   "metadata": {},
   "outputs": [],
   "source": [
    "import os\n",
    "from pathlib import Path\n",
    "from glob import glob\n",
    "import numpy as np\n",
    "import hashlib\n",
    "from cryptography.hazmat.primitives.asymmetric import rsa, padding\n",
    "from cryptography.hazmat.primitives import hashes\n",
    "from cryptography.hazmat.primitives.serialization import Encoding, PrivateFormat, PublicFormat, NoEncryption\n",
    "from cryptography.hazmat.backends import default_backend\n",
    "from PIL import Image\n",
    "from io import BytesIO\n",
    "from typing import List, Tuple\n",
    "from watermarker import MedicalImageWatermarker"
   ]
  },
  {
   "cell_type": "code",
   "execution_count": null,
   "id": "7b8c9107-2f8e-45b6-b7f7-9f0c74ff2012",
   "metadata": {},
   "outputs": [],
   "source": [
    "watermarker = MedicalImageWatermarker()"
   ]
  },
  {
   "cell_type": "code",
   "execution_count": null,
   "id": "b816aae4-ae3f-4752-8520-4364ab9cc2cd",
   "metadata": {},
   "outputs": [],
   "source": [
    "private_key, public_key = watermarker.generate_keys()\n",
    "\n",
    "# Embed watermark\n",
    "watermarked_img = watermarker.embed_watermark(\n",
    "    \"../datasets/ctscan/raw/COVID/Covid (32).png\",\n",
    "    private_key,\n",
    "    \"a\",\n",
    "    # [(50, 50), (150, 50), (150, 150), (50, 150)]\n",
    "    # [(5, 5), (15, 5), (15, 15), (5, 15)]\n",
    "    # [(10, 5), (20, 5), (20, 15), (10, 15)]\n",
    "    [(10, 10), (20, 10), (20, 20), (10, 20)]\n",
    ")\n",
    "# watermarked_img.save(\"watermarked.png\")\n",
    "\n",
    "# Extract and verify\n",
    "# result = watermarker.extract_watermark(\n",
    "#     \"watermarked.png\",\n",
    "#     public_key,\n",
    "#     [(5, 5), (15, 5), (15, 15), (5, 15)]\n",
    "# )\n",
    "# print(\"Verification result:\", result)\n",
    "# print(result.decode(\"UTF-8\"))"
   ]
  },
  {
   "cell_type": "code",
   "execution_count": null,
   "id": "c7ecff9b-f64b-4146-8ed1-7cc3d82c9f09",
   "metadata": {},
   "outputs": [],
   "source": [
    "Path().resolve()"
   ]
  },
  {
   "cell_type": "code",
   "execution_count": null,
   "id": "add9570e-948e-4a2e-8df2-b0c2c1913aea",
   "metadata": {},
   "outputs": [],
   "source": [
    "z = \"7dhbu238rt76fgjhe\"\n",
    "print(z, type(z))"
   ]
  },
  {
   "cell_type": "code",
   "execution_count": null,
   "id": "5755211e-c2d3-45e3-99ce-8604cb74fcf2",
   "metadata": {},
   "outputs": [],
   "source": [
    "z1 = b\"7dhbu238rt76fgjhe\"\n",
    "print(z1, type(z1))"
   ]
  },
  {
   "cell_type": "code",
   "execution_count": null,
   "id": "ba90ad0e-7464-4148-9be8-1f929c44307e",
   "metadata": {},
   "outputs": [],
   "source": [
    "int(6.3)"
   ]
  },
  {
   "cell_type": "code",
   "execution_count": null,
   "id": "1ae00c34-ccb1-49e7-9591-ad94dd326899",
   "metadata": {},
   "outputs": [],
   "source": [
    "7 << 1 | 0"
   ]
  },
  {
   "cell_type": "code",
   "execution_count": null,
   "id": "28463aca-c534-42a1-8437-2a4c9f9abfa3",
   "metadata": {},
   "outputs": [],
   "source": [
    "glob('../datasets/ctscan/raw/COVID/')"
   ]
  },
  {
   "cell_type": "code",
   "execution_count": null,
   "id": "55e6f268-3c5c-4ae8-bfae-8c71bd42a002",
   "metadata": {},
   "outputs": [],
   "source": [
    "os.listdir('../datasets/ctscan/raw/')"
   ]
  },
  {
   "cell_type": "code",
   "execution_count": null,
   "id": "f3d67ee7-f430-4479-8b87-51c642ec5d3c",
   "metadata": {},
   "outputs": [],
   "source": [
    "ct_raw_dir = '../datasets/ctscan/raw/'\n",
    "os.listdir(os.path.join(ct_raw_dir, 'COVID/'))[0]"
   ]
  },
  {
   "cell_type": "code",
   "execution_count": null,
   "id": "38689d22-9787-4925-bca0-b12704b10410",
   "metadata": {},
   "outputs": [],
   "source": [
    "os.path.join(ct_raw_dir, 'COVID/', 'Covid (640).png')"
   ]
  },
  {
   "cell_type": "code",
   "execution_count": null,
   "id": "01e91865-b5df-4cfb-a034-da09f36bc174",
   "metadata": {},
   "outputs": [],
   "source": []
  }
 ],
 "metadata": {
  "kernelspec": {
   "display_name": "Python 3 (ipykernel)",
   "language": "python",
   "name": "python3"
  },
  "language_info": {
   "codemirror_mode": {
    "name": "ipython",
    "version": 3
   },
   "file_extension": ".py",
   "mimetype": "text/x-python",
   "name": "python",
   "nbconvert_exporter": "python",
   "pygments_lexer": "ipython3",
   "version": "3.12.6"
  }
 },
 "nbformat": 4,
 "nbformat_minor": 5
}
