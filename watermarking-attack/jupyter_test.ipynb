{
 "cells": [
  {
   "cell_type": "code",
   "execution_count": 5,
   "id": "aa94f263-b393-4335-99cf-49163eda04d4",
   "metadata": {},
   "outputs": [],
   "source": [
    "import numpy as np\n",
    "import sys\n",
    "import torch\n",
    "import torchvision"
   ]
  },
  {
   "cell_type": "code",
   "execution_count": 7,
   "id": "6c2d9d6c-bace-49ad-a5c7-0b0e1705f732",
   "metadata": {},
   "outputs": [
    {
     "name": "stdout",
     "output_type": "stream",
     "text": [
      "0.9592838751178975\n",
      "3.12.0 (main, Oct  2 2023, 23:53:49) [MSC v.1929 64 bit (AMD64)]\n",
      "2.2.3\n",
      "Cuda is available: True\n"
     ]
    }
   ],
   "source": [
    "x = np.random.rand()\n",
    "print(x)\n",
    "print(sys.version)\n",
    "print(np.__version__)\n",
    "\n",
    "print(\"Cuda is available:\", torch.cuda.is_available())"
   ]
  },
  {
   "cell_type": "code",
   "execution_count": null,
   "id": "44674ecc-194e-4364-9ed4-45ea6fa80548",
   "metadata": {},
   "outputs": [],
   "source": []
  }
 ],
 "metadata": {
  "kernelspec": {
   "display_name": "Python 3 (ipykernel)",
   "language": "python",
   "name": "python3"
  },
  "language_info": {
   "codemirror_mode": {
    "name": "ipython",
    "version": 3
   },
   "file_extension": ".py",
   "mimetype": "text/x-python",
   "name": "python",
   "nbconvert_exporter": "python",
   "pygments_lexer": "ipython3",
   "version": "3.12.0"
  }
 },
 "nbformat": 4,
 "nbformat_minor": 5
}
