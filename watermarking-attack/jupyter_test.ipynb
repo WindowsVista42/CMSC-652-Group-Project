{
 "cells": [
  {
   "cell_type": "code",
   "execution_count": 5,
   "id": "aa94f263-b393-4335-99cf-49163eda04d4",
   "metadata": {},
   "outputs": [],
   "source": [
    "import numpy as np\n",
    "import sys"
   ]
  },
  {
   "cell_type": "code",
   "execution_count": 8,
   "id": "6c2d9d6c-bace-49ad-a5c7-0b0e1705f732",
   "metadata": {},
   "outputs": [
    {
     "name": "stdout",
     "output_type": "stream",
     "text": [
      "0.4086598860492697\n",
      "3.13.2 (main, Feb 12 2025, 14:51:17) [Clang 19.1.6 ]\n",
      "2.2.3\n"
     ]
    }
   ],
   "source": [
    "x = np.random.rand()\n",
    "print(x)\n",
    "print(sys.version)\n",
    "print(np.__version__)"
   ]
  }
 ],
 "metadata": {
  "kernelspec": {
   "display_name": "Python 3 (ipykernel)",
   "language": "python",
   "name": "python3"
  },
  "language_info": {
   "codemirror_mode": {
    "name": "ipython",
    "version": 3
   },
   "file_extension": ".py",
   "mimetype": "text/x-python",
   "name": "python",
   "nbconvert_exporter": "python",
   "pygments_lexer": "ipython3",
   "version": "3.13.2"
  }
 },
 "nbformat": 4,
 "nbformat_minor": 5
}
