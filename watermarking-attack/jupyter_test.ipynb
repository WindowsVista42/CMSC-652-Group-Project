{
 "cells": [
  {
   "cell_type": "code",
   "execution_count": 1,
   "id": "aa94f263-b393-4335-99cf-49163eda04d4",
   "metadata": {},
   "outputs": [
    {
     "name": "stderr",
     "output_type": "stream",
     "text": [
      "\n",
      "A module that was compiled using NumPy 1.x cannot be run in\n",
      "NumPy 2.2.3 as it may crash. To support both 1.x and 2.x\n",
      "versions of NumPy, modules must be compiled with NumPy 2.0.\n",
      "Some module may need to rebuild instead e.g. with 'pybind11>=2.12'.\n",
      "\n",
      "If you are a user of the module, the easiest solution will be to\n",
      "downgrade to 'numpy<2' or try to upgrade the affected module.\n",
      "We expect that some modules will need time to support NumPy 2.\n",
      "\n",
      "Traceback (most recent call last):  File \"<frozen runpy>\", line 198, in _run_module_as_main\n",
      "  File \"<frozen runpy>\", line 88, in _run_code\n",
      "  File \"C:\\Users\\banan\\AppData\\Local\\uv\\cache\\archive-v0\\jfJx5HfEhICgjpCazpmlG\\Lib\\site-packages\\ipykernel_launcher.py\", line 18, in <module>\n",
      "    app.launch_new_instance()\n",
      "  File \"C:\\Users\\banan\\AppData\\Local\\uv\\cache\\archive-v0\\jfJx5HfEhICgjpCazpmlG\\Lib\\site-packages\\traitlets\\config\\application.py\", line 1075, in launch_instance\n",
      "    app.start()\n",
      "  File \"C:\\Users\\banan\\AppData\\Local\\uv\\cache\\archive-v0\\jfJx5HfEhICgjpCazpmlG\\Lib\\site-packages\\ipykernel\\kernelapp.py\", line 739, in start\n",
      "    self.io_loop.start()\n",
      "  File \"C:\\Users\\banan\\AppData\\Local\\uv\\cache\\archive-v0\\jfJx5HfEhICgjpCazpmlG\\Lib\\site-packages\\tornado\\platform\\asyncio.py\", line 205, in start\n",
      "    self.asyncio_loop.run_forever()\n",
      "  File \"C:\\Users\\banan\\AppData\\Roaming\\uv\\python\\cpython-3.12.6-windows-x86_64-none\\Lib\\asyncio\\base_events.py\", line 641, in run_forever\n",
      "    self._run_once()\n",
      "  File \"C:\\Users\\banan\\AppData\\Roaming\\uv\\python\\cpython-3.12.6-windows-x86_64-none\\Lib\\asyncio\\base_events.py\", line 1986, in _run_once\n",
      "    handle._run()\n",
      "  File \"C:\\Users\\banan\\AppData\\Roaming\\uv\\python\\cpython-3.12.6-windows-x86_64-none\\Lib\\asyncio\\events.py\", line 88, in _run\n",
      "    self._context.run(self._callback, *self._args)\n",
      "  File \"C:\\Users\\banan\\AppData\\Local\\uv\\cache\\archive-v0\\jfJx5HfEhICgjpCazpmlG\\Lib\\site-packages\\ipykernel\\kernelbase.py\", line 545, in dispatch_queue\n",
      "    await self.process_one()\n",
      "  File \"C:\\Users\\banan\\AppData\\Local\\uv\\cache\\archive-v0\\jfJx5HfEhICgjpCazpmlG\\Lib\\site-packages\\ipykernel\\kernelbase.py\", line 534, in process_one\n",
      "    await dispatch(*args)\n",
      "  File \"C:\\Users\\banan\\AppData\\Local\\uv\\cache\\archive-v0\\jfJx5HfEhICgjpCazpmlG\\Lib\\site-packages\\ipykernel\\kernelbase.py\", line 437, in dispatch_shell\n",
      "    await result\n",
      "  File \"C:\\Users\\banan\\AppData\\Local\\uv\\cache\\archive-v0\\jfJx5HfEhICgjpCazpmlG\\Lib\\site-packages\\ipykernel\\ipkernel.py\", line 362, in execute_request\n",
      "    await super().execute_request(stream, ident, parent)\n",
      "  File \"C:\\Users\\banan\\AppData\\Local\\uv\\cache\\archive-v0\\jfJx5HfEhICgjpCazpmlG\\Lib\\site-packages\\ipykernel\\kernelbase.py\", line 778, in execute_request\n",
      "    reply_content = await reply_content\n",
      "  File \"C:\\Users\\banan\\AppData\\Local\\uv\\cache\\archive-v0\\jfJx5HfEhICgjpCazpmlG\\Lib\\site-packages\\ipykernel\\ipkernel.py\", line 449, in do_execute\n",
      "    res = shell.run_cell(\n",
      "  File \"C:\\Users\\banan\\AppData\\Local\\uv\\cache\\archive-v0\\jfJx5HfEhICgjpCazpmlG\\Lib\\site-packages\\ipykernel\\zmqshell.py\", line 549, in run_cell\n",
      "    return super().run_cell(*args, **kwargs)\n",
      "  File \"C:\\Users\\banan\\AppData\\Local\\uv\\cache\\archive-v0\\jfJx5HfEhICgjpCazpmlG\\Lib\\site-packages\\IPython\\core\\interactiveshell.py\", line 3077, in run_cell\n",
      "    result = self._run_cell(\n",
      "  File \"C:\\Users\\banan\\AppData\\Local\\uv\\cache\\archive-v0\\jfJx5HfEhICgjpCazpmlG\\Lib\\site-packages\\IPython\\core\\interactiveshell.py\", line 3132, in _run_cell\n",
      "    result = runner(coro)\n",
      "  File \"C:\\Users\\banan\\AppData\\Local\\uv\\cache\\archive-v0\\jfJx5HfEhICgjpCazpmlG\\Lib\\site-packages\\IPython\\core\\async_helpers.py\", line 128, in _pseudo_sync_runner\n",
      "    coro.send(None)\n",
      "  File \"C:\\Users\\banan\\AppData\\Local\\uv\\cache\\archive-v0\\jfJx5HfEhICgjpCazpmlG\\Lib\\site-packages\\IPython\\core\\interactiveshell.py\", line 3336, in run_cell_async\n",
      "    has_raised = await self.run_ast_nodes(code_ast.body, cell_name,\n",
      "  File \"C:\\Users\\banan\\AppData\\Local\\uv\\cache\\archive-v0\\jfJx5HfEhICgjpCazpmlG\\Lib\\site-packages\\IPython\\core\\interactiveshell.py\", line 3519, in run_ast_nodes\n",
      "    if await self.run_code(code, result, async_=asy):\n",
      "  File \"C:\\Users\\banan\\AppData\\Local\\uv\\cache\\archive-v0\\jfJx5HfEhICgjpCazpmlG\\Lib\\site-packages\\IPython\\core\\interactiveshell.py\", line 3579, in run_code\n",
      "    exec(code_obj, self.user_global_ns, self.user_ns)\n",
      "  File \"C:\\Users\\banan\\AppData\\Local\\Temp\\ipykernel_28720\\1240701226.py\", line 3, in <module>\n",
      "    import torch\n",
      "  File \"C:\\Work\\CMSC-652-Group-Project\\watermarking-attack\\.venv\\Lib\\site-packages\\torch\\__init__.py\", line 1477, in <module>\n",
      "    from .functional import *  # noqa: F403\n",
      "  File \"C:\\Work\\CMSC-652-Group-Project\\watermarking-attack\\.venv\\Lib\\site-packages\\torch\\functional.py\", line 9, in <module>\n",
      "    import torch.nn.functional as F\n",
      "  File \"C:\\Work\\CMSC-652-Group-Project\\watermarking-attack\\.venv\\Lib\\site-packages\\torch\\nn\\__init__.py\", line 1, in <module>\n",
      "    from .modules import *  # noqa: F403\n",
      "  File \"C:\\Work\\CMSC-652-Group-Project\\watermarking-attack\\.venv\\Lib\\site-packages\\torch\\nn\\modules\\__init__.py\", line 35, in <module>\n",
      "    from .transformer import TransformerEncoder, TransformerDecoder, \\\n",
      "  File \"C:\\Work\\CMSC-652-Group-Project\\watermarking-attack\\.venv\\Lib\\site-packages\\torch\\nn\\modules\\transformer.py\", line 20, in <module>\n",
      "    device: torch.device = torch.device(torch._C._get_default_device()),  # torch.device('cpu'),\n",
      "C:\\Work\\CMSC-652-Group-Project\\watermarking-attack\\.venv\\Lib\\site-packages\\torch\\nn\\modules\\transformer.py:20: UserWarning: Failed to initialize NumPy: _ARRAY_API not found (Triggered internally at ..\\torch\\csrc\\utils\\tensor_numpy.cpp:84.)\n",
      "  device: torch.device = torch.device(torch._C._get_default_device()),  # torch.device('cpu'),\n"
     ]
    }
   ],
   "source": [
    "import numpy as np\n",
    "import sys\n",
    "import torch\n",
    "import torchvision"
   ]
  },
  {
   "cell_type": "code",
   "execution_count": 7,
   "id": "6c2d9d6c-bace-49ad-a5c7-0b0e1705f732",
   "metadata": {},
   "outputs": [
    {
     "name": "stdout",
     "output_type": "stream",
     "text": [
      "0.9592838751178975\n",
      "3.12.0 (main, Oct  2 2023, 23:53:49) [MSC v.1929 64 bit (AMD64)]\n",
      "2.2.3\n",
      "Cuda is available: True\n"
     ]
    }
   ],
   "source": [
    "x = np.random.rand()\n",
    "print(x)\n",
    "print(sys.version)\n",
    "print(np.__version__)\n",
    "\n",
    "print(\"Cuda is available:\", torch.cuda.is_available())"
   ]
  },
  {
   "cell_type": "code",
   "execution_count": null,
   "id": "44674ecc-194e-4364-9ed4-45ea6fa80548",
   "metadata": {},
   "outputs": [],
   "source": []
  }
 ],
 "metadata": {
  "kernelspec": {
   "display_name": "Python 3 (ipykernel)",
   "language": "python",
   "name": "python3"
  },
  "language_info": {
   "codemirror_mode": {
    "name": "ipython",
    "version": 3
   },
   "file_extension": ".py",
   "mimetype": "text/x-python",
   "name": "python",
   "nbconvert_exporter": "python",
   "pygments_lexer": "ipython3",
   "version": "3.12.6"
  }
 },
 "nbformat": 4,
 "nbformat_minor": 5
}
